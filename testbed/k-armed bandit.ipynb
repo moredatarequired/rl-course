{
 "cells": [
  {
   "cell_type": "code",
   "execution_count": 1,
   "metadata": {},
   "outputs": [],
   "source": [
    "from dataclasses import dataclass, field\n",
    "from random import choice, gauss, random, randrange\n",
    "from typing import Callable, Dict, Tuple\n",
    "\n",
    "import numpy as np\n",
    "import scipy.stats as st"
   ]
  },
  {
   "cell_type": "code",
   "execution_count": 2,
   "metadata": {},
   "outputs": [],
   "source": [
    "@dataclass(frozen=True)\n",
    "class Normal:\n",
    "    \"\"\"A normal distribution.\"\"\"\n",
    "    mu: float = 0\n",
    "    sigma: float = 1\n",
    "\n",
    "    def __call__(self):\n",
    "        return gauss(self.mu, self.sigma)\n",
    "\n",
    "standard_normal = Normal()"
   ]
  },
  {
   "cell_type": "code",
   "execution_count": 3,
   "metadata": {},
   "outputs": [],
   "source": [
    "@dataclass\n",
    "class Bandit:\n",
    "    arms: Tuple[Callable[[], float]]\n",
    "\n",
    "    def __len__(self):\n",
    "        return len(self.arms)\n",
    "\n",
    "    def actions(self):\n",
    "        \"\"\"Return a list of available actions (arms that can be pulled).\"\"\"\n",
    "        return list(range(len(self.arms)))\n",
    "    \n",
    "    def pull(self, arm):\n",
    "        return self.arms[arm]()\n",
    "\n",
    "    def maximum_expected_value(self):\n",
    "        \"\"\"The expected value of the optimum policy.\"\"\"\n",
    "        return max(dist.mu for dist in self.arms)"
   ]
  },
  {
   "cell_type": "code",
   "execution_count": 4,
   "metadata": {},
   "outputs": [],
   "source": [
    "def gaussian_bandit(k=10):\n",
    "    \"\"\"Create a k-armed bandit where each arm returns values drawn from the unit-normal distribution\n",
    "    centered around mu, where mu is initially drawn from the standard normal distribution.\n",
    "    \"\"\"\n",
    "    return Bandit(tuple(Normal(standard_normal()) for _ in range(k)))"
   ]
  },
  {
   "cell_type": "code",
   "execution_count": 5,
   "metadata": {},
   "outputs": [
    {
     "output_type": "execute_result",
     "data": {
      "text/plain": "Bandit(arms=(Normal(mu=1.3669200597511832, sigma=1), Normal(mu=1.0150586203888627, sigma=1), Normal(mu=-1.2605233254415784, sigma=1)))"
     },
     "metadata": {},
     "execution_count": 5
    }
   ],
   "source": [
    "# Just checking to make sure it works.\n",
    "bandit = gaussian_bandit(3)\n",
    "assert bandit.actions() == [0, 1, 2]\n",
    "assert isinstance(bandit.pull(1), float)\n",
    "bandit"
   ]
  },
  {
   "cell_type": "code",
   "execution_count": 6,
   "metadata": {},
   "outputs": [],
   "source": [
    "@dataclass\n",
    "class EpsilonGreedyPolicy:\n",
    "    epsilon: float\n",
    "    bandit: Bandit\n",
    "    expected_reward: Dict[int, float] = field(init=False)\n",
    "    visit_counts: Dict[int, int] = field(init=False)\n",
    "    total_reward: float = field(init=False, default=0)\n",
    "\n",
    "    def __post_init__(self):\n",
    "        actions = self.bandit.actions()\n",
    "        self.expected_reward = {a: 0 for a in actions}\n",
    "        self.visit_counts = {a: 0 for a in actions}\n",
    "    \n",
    "    def pull(self):\n",
    "        if random() < self.epsilon:\n",
    "            # Pull a lever at random.\n",
    "            action = randrange(len(self.bandit))\n",
    "        else:\n",
    "            # Pull the lever with the higest expected reward.\n",
    "            action = max(self.expected_reward, key=self.expected_reward.get)\n",
    "        reward = self.bandit.pull(action)\n",
    "        self.update(action, reward)\n",
    "        self.total_reward += reward\n",
    "    \n",
    "    def update(self, action, reward):\n",
    "        self.visit_counts[action] += 1\n",
    "        alpha = 1 / self.visit_counts[action]\n",
    "        self.expected_reward[action] += alpha * (reward - self.expected_reward[action])\n",
    "    \n",
    "    def trial(self, attempts=1000):\n",
    "        for _ in range(attempts):\n",
    "            self.pull()\n",
    "        return self.total_reward\n",
    "\n"
   ]
  },
  {
   "cell_type": "code",
   "execution_count": 7,
   "metadata": {},
   "outputs": [],
   "source": [
    "def evaluate(epsilon, attempts=1000, runs=1000):\n",
    "    returns = []\n",
    "    for _ in range(runs):\n",
    "        policy = EpsilonGreedyPolicy(epsilon, bandit=gaussian_bandit())\n",
    "        policy.trial(attempts)\n",
    "        returns.append(policy.total_reward)\n",
    "    ci_low, ci_high = st.t.interval(0.95, runs-1, loc=np.mean(returns), scale=st.sem(returns))\n",
    "    ci_size = (ci_high - ci_low) / 2\n",
    "    return np.mean(returns), ci_size"
   ]
  },
  {
   "cell_type": "code",
   "execution_count": 8,
   "metadata": {},
   "outputs": [
    {
     "output_type": "execute_result",
     "data": {
      "text/plain": "{1: (-13.124761493384547, 20.469862193861296),\n 0.3: (1051.1372979983241, 28.965340322606608),\n 0.1: (1314.9651299899601, 33.06312912690828),\n 0.03: (1316.2716726101148, 35.37608767592974),\n 0.01: (1152.827637286691, 36.45293734946176),\n 0: (1033.2359387480142, 36.41430901717604)}"
     },
     "metadata": {},
     "execution_count": 8
    }
   ],
   "source": [
    "performance = {e : evaluate(e) for e in (1, 0.3, 0.1, 0.03, 0.01, 0)}\n",
    "performance"
   ]
  },
  {
   "cell_type": "code",
   "execution_count": 9,
   "metadata": {},
   "outputs": [
    {
     "output_type": "error",
     "ename": "NameError",
     "evalue": "name 'np' is not defined",
     "traceback": [
      "\u001b[0;31m---------------------------------------------------------------------------\u001b[0m",
      "\u001b[0;31mNameError\u001b[0m                                 Traceback (most recent call last)",
      "\u001b[0;32m<ipython-input-9-84c38760dcf4>\u001b[0m in \u001b[0;36m<module>\u001b[0;34m\u001b[0m\n\u001b[0;32m----> 1\u001b[0;31m \u001b[0mperformance\u001b[0m \u001b[0;34m=\u001b[0m \u001b[0;34m{\u001b[0m\u001b[0me\u001b[0m \u001b[0;34m:\u001b[0m \u001b[0mevaluate\u001b[0m\u001b[0;34m(\u001b[0m\u001b[0me\u001b[0m\u001b[0;34m,\u001b[0m \u001b[0mruns\u001b[0m\u001b[0;34m=\u001b[0m\u001b[0;36m10000\u001b[0m\u001b[0;34m)\u001b[0m \u001b[0;32mfor\u001b[0m \u001b[0me\u001b[0m \u001b[0;32min\u001b[0m \u001b[0mnp\u001b[0m\u001b[0;34m.\u001b[0m\u001b[0mlinspace\u001b[0m\u001b[0;34m(\u001b[0m\u001b[0;36m0.03\u001b[0m\u001b[0;34m,\u001b[0m \u001b[0;36m0.1\u001b[0m\u001b[0;34m,\u001b[0m \u001b[0mnum\u001b[0m\u001b[0;34m=\u001b[0m\u001b[0;36m8\u001b[0m\u001b[0;34m)\u001b[0m\u001b[0;34m}\u001b[0m\u001b[0;34m\u001b[0m\u001b[0;34m\u001b[0m\u001b[0m\n\u001b[0m\u001b[1;32m      2\u001b[0m \u001b[0mperformance\u001b[0m\u001b[0;34m\u001b[0m\u001b[0;34m\u001b[0m\u001b[0m\n",
      "\u001b[0;31mNameError\u001b[0m: name 'np' is not defined"
     ]
    }
   ],
   "source": [
    "performance = {e : evaluate(e, runs=10000) for e in np.linspace(0.03, 0.1, num=8)}\n",
    "performance"
   ]
  }
 ],
 "metadata": {
  "kernelspec": {
   "display_name": "Python 3",
   "language": "python",
   "name": "python3"
  },
  "language_info": {
   "codemirror_mode": {
    "name": "ipython",
    "version": 3
   },
   "file_extension": ".py",
   "mimetype": "text/x-python",
   "name": "python",
   "nbconvert_exporter": "python",
   "pygments_lexer": "ipython3",
   "version": "3.8.1-final"
  }
 },
 "nbformat": 4,
 "nbformat_minor": 4
}